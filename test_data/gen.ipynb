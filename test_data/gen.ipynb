{
 "cells": [
  {
   "cell_type": "code",
   "execution_count": 1,
   "metadata": {},
   "outputs": [
    {
     "name": "stdout",
     "output_type": "stream",
     "text": [
      "Split complete: 878 train / 220 val\n"
     ]
    }
   ],
   "source": [
    "import json\n",
    "import random\n",
    "\n",
    "# Input and output paths\n",
    "input_file = \"dogs2.jsonl\"\n",
    "train_file = \"train.jsonl\"\n",
    "val_file = \"val.jsonl\"\n",
    "\n",
    "# Set random seed for reproducibility\n",
    "random.seed(42)\n",
    "\n",
    "# Load all records\n",
    "with open(input_file, \"r\") as f:\n",
    "    records = [json.loads(line.strip()) for line in f if line.strip()]\n",
    "\n",
    "# Shuffle and split\n",
    "random.shuffle(records)\n",
    "split_idx = int(0.8 * len(records))\n",
    "train_records = records[:split_idx]\n",
    "val_records = records[split_idx:]\n",
    "\n",
    "# Save train split\n",
    "with open(train_file, \"w\") as f:\n",
    "    for rec in train_records:\n",
    "        f.write(json.dumps(rec) + \"\\n\")\n",
    "\n",
    "# Save validation split\n",
    "with open(val_file, \"w\") as f:\n",
    "    for rec in val_records:\n",
    "        f.write(json.dumps(rec) + \"\\n\")\n",
    "\n",
    "print(f\"Split complete: {len(train_records)} train / {len(val_records)} val\")"
   ]
  }
 ],
 "metadata": {
  "language_info": {
   "name": "python"
  }
 },
 "nbformat": 4,
 "nbformat_minor": 2
}
