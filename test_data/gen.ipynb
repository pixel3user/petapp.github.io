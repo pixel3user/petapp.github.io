{
 "cells": [
  {
   "cell_type": "code",
   "execution_count": 1,
   "metadata": {},
   "outputs": [
    {
     "name": "stdout",
     "output_type": "stream",
     "text": [
      "Split complete: 878 train / 220 val\n"
     ]
    }
   ],
   "source": [
    "import json\n",
    "import random\n",
    "\n",
    "# Input and output paths\n",
    "input_file = \"dogs2.jsonl\"\n",
    "train_file = \"train.jsonl\"\n",
    "val_file = \"val.jsonl\"\n",
    "\n",
    "# Set random seed for reproducibility\n",
    "random.seed(42)\n",
    "\n",
    "# Load all records\n",
    "with open(input_file, \"r\") as f:\n",
    "    records = [json.loads(line.strip()) for line in f if line.strip()]\n",
    "\n",
    "# Shuffle and split\n",
    "random.shuffle(records)\n",
    "split_idx = int(0.8 * len(records))\n",
    "train_records = records[:split_idx]\n",
    "val_records = records[split_idx:]\n",
    "\n",
    "# Save train split\n",
    "with open(train_file, \"w\") as f:\n",
    "    for rec in train_records:\n",
    "        f.write(json.dumps(rec) + \"\\n\")\n",
    "\n",
    "# Save validation split\n",
    "with open(val_file, \"w\") as f:\n",
    "    for rec in val_records:\n",
    "        f.write(json.dumps(rec) + \"\\n\")\n",
    "\n",
    "print(f\"Split complete: {len(train_records)} train / {len(val_records)} val\")"
   ]
  },
  {
   "cell_type": "code",
   "execution_count": 1,
   "metadata": {},
   "outputs": [
    {
     "name": "stdout",
     "output_type": "stream",
     "text": [
      "✅ Total images checked: 878\n",
      "🔽 Min size: 640x640 = 409600 pixels\n",
      "🔼 Max size: 640x640 = 409600 pixels\n"
     ]
    }
   ],
   "source": [
    "import os\n",
    "import json\n",
    "from PIL import Image\n",
    "\n",
    "def load_jsonl(path):\n",
    "    with open(path, \"r\") as f:\n",
    "        return [json.loads(line) for line in f if line.strip()]\n",
    "\n",
    "def get_image_sizes(jsonl_path):\n",
    "    records = load_jsonl(jsonl_path)\n",
    "    sizes = []\n",
    "\n",
    "    for i, rec in enumerate(records):\n",
    "        try:\n",
    "            image_path = rec.get(\"image\")\n",
    "            if not os.path.exists(image_path):\n",
    "                continue\n",
    "\n",
    "            with Image.open(image_path) as img:\n",
    "                img = img.convert(\"RGB\")\n",
    "                width, height = img.size\n",
    "                sizes.append((width, height))\n",
    "        except Exception as e:\n",
    "            print(f\"[WARN] Skipping index {i}: {e}\")\n",
    "\n",
    "    if not sizes:\n",
    "        print(\"❌ No valid images found.\")\n",
    "        return\n",
    "\n",
    "    # Convert to total pixels for sorting\n",
    "    sizes_by_area = [(w, h, w * h) for w, h in sizes]\n",
    "    min_size = min(sizes_by_area, key=lambda x: x[2])\n",
    "    max_size = max(sizes_by_area, key=lambda x: x[2])\n",
    "\n",
    "    print(f\"✅ Total images checked: {len(sizes)}\")\n",
    "    print(f\"🔽 Min size: {min_size[0]}x{min_size[1]} = {min_size[2]} pixels\")\n",
    "    print(f\"🔼 Max size: {max_size[0]}x{max_size[1]} = {max_size[2]} pixels\")\n",
    "\n",
    "# Example usage\n",
    "get_image_sizes(\"train.jsonl\")\n"
   ]
  }
 ],
 "metadata": {
  "language_info": {
   "name": "python"
  }
 },
 "nbformat": 4,
 "nbformat_minor": 2
}
